{
 "cells": [
  {
   "cell_type": "markdown",
   "id": "2e785321",
   "metadata": {},
   "source": [
    "# 500 Trials of Epidemic Model Investigation"
   ]
  },
  {
   "cell_type": "markdown",
   "id": "f28e2cd4",
   "metadata": {},
   "source": [
    "This program will create 500 epeidemic cities and keep track of the number of sick people after 80 steps in each. The results are shown in a histogram. "
   ]
  },
  {
   "cell_type": "code",
   "execution_count": 2,
   "id": "d2b6a724",
   "metadata": {},
   "outputs": [],
   "source": [
    "import numpy as np\n",
    "import matplotlib.pyplot as plt\n",
    "import random\n",
    "\n",
    "class WrappedGrid:\n",
    "    def __init__(self, width, height):\n",
    "        self.width = width\n",
    "        self.height = height\n",
    "        self.grid = np.zeros((height, width))\n",
    "\n",
    "    def get(self, x, y): \n",
    "        return self.grid[y % self.height][x % self.width]\n",
    "\n",
    "    def set(self, x, y, value):\n",
    "        self.grid[y % self.height][x % self.width] = value\n",
    "\n",
    "class Person:\n",
    "    def __init__(self, grid, is_sick=False):\n",
    "        self.grid = grid\n",
    "        self.x = random.randint(0, grid.width - 1)  # Initial x-coordinate\n",
    "        self.y = random.randint(0, grid.height - 1)  # Initial y-coordinate\n",
    "        self.is_sick = is_sick\n",
    "        self.sickness_duration = 0\n",
    "        self.sickduration_rate = random.uniform(0.1, 0.3)  # Random immunity rate between 0.1 and 0.3\n",
    "\n",
    "    def move(self):\n",
    "        dx = random.randint(-1, 1)  # Move left, right, or stay\n",
    "        dy = random.randint(-1, 1)  # Move up, down, or stay\n",
    "\n",
    "        new_x = (self.x + dx) % self.grid.width\n",
    "        new_y = (self.y + dy) % self.grid.height\n",
    "\n",
    "        if self.grid.get(new_x, new_y) != 1:\n",
    "            self.x = new_x\n",
    "            self.y = new_y\n",
    "            if self.is_sick:\n",
    "                self.transmit_sickness(new_x, new_y)\n",
    "                self.update_sickness_duration()\n",
    "\n",
    "    def transmit_sickness(self, x, y):\n",
    "        for person in people:\n",
    "            if person.x == x and person.y == y and not person.is_sick:\n",
    "                if random.random() < 0.95:\n",
    "                    person.is_sick = True\n",
    "\n",
    "    def update_sickness_duration(self):\n",
    "        if self.is_sick:\n",
    "            self.sickness_duration += 1\n",
    "            if self.sickness_duration >= 25:  # Assuming a sickness duration of 10 time steps\n",
    "                #self.is_sick = False\n",
    "                if random.random() < self.sickduration_rate:\n",
    "                    self.is_sick = False\n",
    "                    self.sickness_duration = 0\n",
    "            else:\n",
    "                self.is_sick\n",
    "\n",
    "    def get_position(self):\n",
    "        return self.x, self.y\n",
    "\n",
    "class Visualizer:\n",
    "    def __init__(self, grid, people):\n",
    "        self.grid = grid\n",
    "        self.people = people\n",
    " \n",
    "    def visualize(self, frame_count):\n",
    "        plt.figure(figsize=(5, 5))\n",
    "        plt.imshow(self.grid.grid, cmap='binary', origin='lower')\n",
    "\n",
    "        for person in self.people:\n",
    "            if person.is_sick:\n",
    "                plt.scatter(person.x, person.y, color='red', marker='o', s=20)  # Sick person in red\n",
    "            else:\n",
    "                plt.scatter(person.x, person.y, color='blue', marker='o', s=14)  # Healthy person in blue\n",
    "\n",
    "        plt.tick_params(left = False, right = False , labelleft = False , labelbottom = False, bottom = False) \n",
    "        #plt.xlabel('X')\n",
    "        #plt.ylabel('Y')\n",
    "        plt.suptitle('Epidemic in City')\n",
    "        plt.title('Frame {}'.format(frame_count))\n",
    "\n",
    "        plt.show()\n",
    "        #plt.savefig('first_plot.png')\n",
    "\n",
    "# Size of city\n",
    "width = 50\n",
    "height = 50\n",
    "grid = WrappedGrid(width, height)\n",
    "\n",
    "# Set some obstacles! Random. Change how many obtsacles you want in range()\n",
    "for k in range(25):\n",
    "    grid.set(random.randint(0, width), random.randint(0, width), 1)"
   ]
  },
  {
   "cell_type": "code",
   "execution_count": 3,
   "id": "7c149b5c",
   "metadata": {},
   "outputs": [
    {
     "name": "stdout",
     "output_type": "stream",
     "text": [
      "Final number of sick people in each trial: [68, 55, 137, 0, 136, 124, 114, 146, 116, 91, 39, 77, 45, 163, 106, 89, 129, 103, 97, 126, 42, 151, 111, 121, 119, 106, 148, 54, 121, 106, 161, 57, 125, 159, 138, 70, 94, 48, 97, 142, 140, 122, 152, 58, 117, 98, 78, 92, 0, 79, 86, 88, 43, 86, 104, 93, 111, 54, 102, 73, 135, 31, 82, 10, 123, 86, 117, 107, 140, 131, 60, 76, 38, 104, 143, 92, 127, 127, 62, 55, 117, 94, 108, 88, 82, 56, 161, 60, 98, 16, 51, 36, 0, 80, 91, 106, 87, 138, 112, 104, 90, 112, 62, 64, 70, 85, 51, 175, 135, 118, 73, 56, 43, 158, 0, 53, 120, 205, 90, 60, 127, 133, 11, 156, 31, 144, 210, 141, 130, 167, 124, 104, 127, 64, 144, 132, 116, 99, 69, 37, 57, 139, 67, 58, 177, 27, 110, 162, 95, 178, 30, 102, 117, 105, 119, 171, 95, 14, 176, 105, 107, 97, 159, 152, 142, 111, 130, 124, 38, 0, 65, 136, 102, 172, 74, 86, 45, 142, 129, 111, 82, 0, 166, 106, 154, 115, 9, 76, 87, 41, 209, 148, 169, 119, 90, 75, 129, 86, 39, 43, 55, 74, 53, 147, 85, 102, 118, 75, 0, 0, 135, 101, 140, 38, 55, 89, 56, 129, 128, 125, 52, 0, 93, 170, 140, 151, 98, 169, 97, 52, 59, 81, 116, 24, 51, 123, 114, 23, 145, 92, 82, 86, 100, 151, 143, 105, 55, 47, 113, 145, 154, 98, 60, 126, 77, 83, 96, 161, 115, 79, 83, 139, 117, 180, 159, 70, 152, 101, 112, 0, 130, 135, 74, 143, 168, 77, 79, 0, 111, 49, 107, 88, 93, 133, 60, 130, 99, 0, 153, 123, 71, 57, 107, 67, 145, 101, 52, 97, 59, 94, 159, 87, 42, 57, 154, 108, 51, 106, 77, 114, 129, 103, 120, 68, 38, 104, 75, 110, 104, 77, 94, 103, 64, 178, 0, 46, 46, 69, 128, 95, 133, 52, 121, 189, 78, 18, 155, 111, 101, 105, 131, 102, 108, 72, 65, 134, 167, 84, 66, 162, 145, 96, 60, 67, 0, 89, 88, 56, 78, 84, 91, 81, 100, 60, 109, 125, 83, 96, 103, 123, 36, 130, 0, 87, 65, 135, 112, 94, 136, 139, 183, 106, 102, 36, 75, 84, 51, 112, 125, 61, 67, 156, 23, 103, 108, 40, 124, 108, 39, 118, 32, 71, 135, 68, 130, 129, 122, 111, 61, 75, 60, 53, 111, 53, 90, 159, 57, 107, 61, 47, 138, 96, 109, 72, 143, 124, 44, 68, 164, 104, 101, 45, 123, 91, 148, 45, 62, 182, 98, 96, 85, 92, 26, 125, 159, 58, 69, 125, 35, 83, 57, 108, 134, 86, 175, 92, 103, 67, 137, 110, 39, 85, 45, 52, 77, 116, 120, 72, 159, 108, 95, 188, 99, 114, 172, 41, 93, 151, 82, 75, 82, 139, 50, 105, 97, 134, 125, 112, 133, 95, 72, 127, 57, 125, 123, 114, 125, 107, 107, 75]\n"
     ]
    }
   ],
   "source": [
    "\n",
    "# Number of trials\n",
    "num_trials = 500\n",
    "\n",
    "# Array to store the final number of sick people in each trial\n",
    "final_sick_counts = []\n",
    "\n",
    "for _ in range(num_trials):\n",
    "    # Reset the grid and people for each trial\n",
    "    grid = WrappedGrid(width, height)\n",
    "\n",
    "    # Set some obstacles!\n",
    "    for k in range(25):\n",
    "        grid.set(random.randint(0, width), random.randint(0, width), 1)\n",
    "\n",
    "    # Create people and visualizer\n",
    "    people = [Person(grid) for _ in range(420)]  # Creating people\n",
    "    people[0].is_sick = True  # Making the first person sick\n",
    "    visualizer = Visualizer(grid, people)\n",
    "\n",
    "    # Move the people around the grid\n",
    "    for frame_counter in range(80):\n",
    "        for person in people:\n",
    "            person.move()\n",
    "        \n",
    "        # Check and store the count of sick people in the final frame\n",
    "        if frame_counter == 79:\n",
    "            num_sick_final_frame = sum(1 for person in people if person.is_sick)\n",
    "            final_sick_counts.append(num_sick_final_frame)\n",
    "\n",
    "# Print the final number of sick people in each trial\n",
    "print(\"Final number of sick people in each trial:\", final_sick_counts)\n"
   ]
  },
  {
   "cell_type": "code",
   "execution_count": 4,
   "id": "61b2fce9",
   "metadata": {},
   "outputs": [
    {
     "data": {
      "image/png": "[encoded data removed]",
      "text/plain": [
       "<Figure size 640x480 with 1 Axes>"
      ]
     },
     "metadata": {},
     "output_type": "display_data"
    }
   ],
   "source": [
    "mean = np.mean(final_sick_counts)\n",
    "std = np.std(final_sick_counts)\n",
    "median = np.median(final_sick_counts)\n",
    "\n",
    "\n",
    "plt.figure()\n",
    "plt.hist(final_sick_counts, bins=50, color='indianred')\n",
    "plt.title('Number of Sick People After 80 Steps in 500 Trials')\n",
    "plt.xlabel('Number of Sick People')\n",
    "plt.ylabel('Number of Occurrences')\n",
    "plt.savefig('sick_hist.png')"
   ]
  }
 ],
 "metadata": {
  "kernelspec": {
   "display_name": "Python 3 (ipykernel)",
   "language": "python",
   "name": "python3"
  },
  "language_info": {
   "codemirror_mode": {
    "name": "ipython",
    "version": 3
   },
   "file_extension": ".py",
   "mimetype": "text/x-python",
   "name": "python",
   "nbconvert_exporter": "python",
   "pygments_lexer": "ipython3",
   "version": "3.9.16"
  }
 },
 "nbformat": 4,
 "nbformat_minor": 5
}
